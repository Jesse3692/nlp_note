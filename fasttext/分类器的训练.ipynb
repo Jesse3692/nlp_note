{
 "metadata": {
  "language_info": {
   "codemirror_mode": {
    "name": "ipython",
    "version": 3
   },
   "file_extension": ".py",
   "mimetype": "text/x-python",
   "name": "python",
   "nbconvert_exporter": "python",
   "pygments_lexer": "ipython3",
   "version": "3.6.12-final"
  },
  "orig_nbformat": 2,
  "kernelspec": {
   "name": "python3",
   "display_name": "Python 3.6.12 64-bit ('nlp_note': pipenv)",
   "metadata": {
    "interpreter": {
     "hash": "a896d8b85ed45173cccdb3ad0d2529e3c0ca0eff2ec6fad8da65757abb7e2527"
    }
   }
  }
 },
 "nbformat": 4,
 "nbformat_minor": 2,
 "cells": [
  {
   "source": [
    "### 第一个分类器"
   ],
   "cell_type": "markdown",
   "metadata": {}
  },
  {
   "cell_type": "code",
   "execution_count": 1,
   "metadata": {},
   "outputs": [],
   "source": [
    "import fasttext"
   ]
  },
  {
   "cell_type": "code",
   "execution_count": 50,
   "metadata": {},
   "outputs": [],
   "source": [
    "# 模型训练\n",
    "model = fasttext.train_supervised(input=\"data/cooking.train\")"
   ]
  },
  {
   "cell_type": "code",
   "execution_count": 21,
   "metadata": {},
   "outputs": [],
   "source": [
    "# 保存模型\n",
    "model.save_model(\"model_cooking.bin\")"
   ]
  },
  {
   "cell_type": "code",
   "execution_count": 22,
   "metadata": {},
   "outputs": [
    {
     "output_type": "execute_result",
     "data": {
      "text/plain": [
       "(('__label__baking',), array([0.08202819]))"
      ]
     },
     "metadata": {},
     "execution_count": 22
    }
   ],
   "source": [
    "# 测试模型\n",
    "model.predict(\"Which baking dish is best to bake a banana bread ?\")"
   ]
  },
  {
   "cell_type": "code",
   "execution_count": 23,
   "metadata": {},
   "outputs": [
    {
     "output_type": "execute_result",
     "data": {
      "text/plain": [
       "(('__label__food-safety',), array([0.05188132]))"
      ]
     },
     "metadata": {},
     "execution_count": 23
    }
   ],
   "source": [
    "model.predict(\"Why not put knives in the dishwasher ?\")"
   ]
  },
  {
   "source": [
    "该模型所预测的标签是食品安全，这是不相关的。不知何故，这个模型似乎在一些简单的例子上失败了。"
   ],
   "cell_type": "markdown",
   "metadata": {}
  },
  {
   "cell_type": "code",
   "execution_count": 24,
   "metadata": {},
   "outputs": [
    {
     "output_type": "execute_result",
     "data": {
      "text/plain": [
       "(3000, 0.146, 0.06313968574311662)"
      ]
     },
     "metadata": {},
     "execution_count": 24
    }
   ],
   "source": [
    "# 验证数据\n",
    "model.test(\"cooking.valid\")"
   ]
  },
  {
   "source": [
    "上面的第一个参数是样本数，第二个为精度（单位1），第三个为召回率（单位1）"
   ],
   "cell_type": "markdown",
   "metadata": {}
  },
  {
   "cell_type": "code",
   "execution_count": 51,
   "metadata": {},
   "outputs": [
    {
     "output_type": "stream",
     "name": "stdout",
     "text": [
      "这次训练后的单词数为：14543，标签数为：735\n"
     ]
    }
   ],
   "source": [
    "print(\"这次训练后的单词数为：%d，标签数为：%d\" % (len(model.words), len(model.labels)))"
   ]
  },
  {
   "cell_type": "code",
   "execution_count": 27,
   "metadata": {},
   "outputs": [
    {
     "output_type": "execute_result",
     "data": {
      "text/plain": [
       "(3000, 0.0674, 0.14574023353034454)"
      ]
     },
     "metadata": {},
     "execution_count": 27
    }
   ],
   "source": [
    "# 设置精度\n",
    "model.test(\"cooking.valid\", k=5)"
   ]
  },
  {
   "source": [
    "### 高级：准确率和召回率的计算"
   ],
   "cell_type": "markdown",
   "metadata": {}
  },
  {
   "source": [
    "准确率是由fasttext预测的标签中正确标签的数量。召回率是所有真正的标签中成功预测的标签数量。"
   ],
   "cell_type": "markdown",
   "metadata": {}
  },
  {
   "source": [
    "\"Why not put knives in the dishwasher?\"，这句话中有三个标签：equipment（设备）、cleaning（清洁）和knives（刀具）。该模型预测的前五个标签可以通过以下方式获得："
   ],
   "cell_type": "markdown",
   "metadata": {}
  },
  {
   "cell_type": "code",
   "execution_count": 28,
   "metadata": {},
   "outputs": [
    {
     "output_type": "execute_result",
     "data": {
      "text/plain": [
       "(('__label__food-safety',\n",
       "  '__label__baking',\n",
       "  '__label__bread',\n",
       "  '__label__equipment',\n",
       "  '__label__substitutions'),\n",
       " array([0.05188132, 0.05018667, 0.0325066 , 0.027121  , 0.02521329]))"
      ]
     },
     "metadata": {},
     "execution_count": 28
    }
   ],
   "source": [
    "model.predict(\"Why not put knives in the dishwasher ?\",k=5)"
   ]
  },
  {
   "source": [
    "上面预测的五个标签中（food-safety 食品安全、baking 烘焙、equipment 设备、substitutions 替代品和bread 面包），只有一个标签是正确的准确率为0.027。\n",
    "\n",
    "在三个真正的标签中，只有一个在这个模型中被预测到了，召回率为0.33。"
   ],
   "cell_type": "markdown",
   "metadata": {}
  },
  {
   "source": [
    "### 让模型变得更好"
   ],
   "cell_type": "markdown",
   "metadata": {}
  },
  {
   "source": [
    "由上面的样例可以看出，使用默认参数运行fasttext所获得的模型在分类新问题时非常糟糕。我们可以通过更改参数来改进性能。"
   ],
   "cell_type": "markdown",
   "metadata": {}
  },
  {
   "source": [
    "#### 预处理数据"
   ],
   "cell_type": "markdown",
   "metadata": {}
  },
  {
   "source": [
    "通过查看数据，我们可以发现一些单词中包含大写字母或标点符号。改进模型性能的第一步是应用一些简单的预处理。可以使用shell命令如sed和tr"
   ],
   "cell_type": "markdown",
   "metadata": {}
  },
  {
   "source": [
    "```shell\n",
    "cat data/cooking.stackexchange.txt | sed -e \"s/\\([.\\!?,'/()]\\)/ \\1 /g\" | tr \"[:upper:]\" \"[:lower:]\" > cooking.preprocessed.txt\n",
    "\n",
    "head -n 12404 cooking.preprocessed.txt > cooking.train\n",
    "\n",
    "tail -n 3000 cooking.preprocessed.txt > cooking.valid\n",
    "```\n"
   ],
   "cell_type": "markdown",
   "metadata": {}
  },
  {
   "cell_type": "code",
   "execution_count": 2,
   "metadata": {},
   "outputs": [],
   "source": [
    "# 使用预处理的数据，训练新的模型\n",
    "import fasttext\n",
    "model = fasttext.train_supervised(input=\"cooking.train\")"
   ]
  },
  {
   "cell_type": "code",
   "execution_count": 49,
   "metadata": {},
   "outputs": [
    {
     "output_type": "stream",
     "name": "stdout",
     "text": [
      "这次训练后的单词数为：8952，标签数为：735\n"
     ]
    }
   ],
   "source": [
    "print(\"这次训练后的单词数为：%d，标签数为：%d\" % (len(model.words), len(model.labels)))"
   ]
  },
  {
   "source": [
    "由数据对比得知，预处理之后的模型中的单词为8952，预处理之前的单词数为14543，准确率上升了2.4%"
   ],
   "cell_type": "markdown",
   "metadata": {}
  },
  {
   "cell_type": "code",
   "execution_count": 55,
   "metadata": {},
   "outputs": [
    {
     "output_type": "execute_result",
     "data": {
      "text/plain": [
       "(3000, 0.589, 0.25472106097736774)"
      ]
     },
     "metadata": {},
     "execution_count": 55
    }
   ],
   "source": [
    "model = fasttext.train_supervised(input=\"cooking.train\", lr=1.0, epoch=25, wordNgrams=2, bucket=200000, dim=50, loss='hs')\n",
    "model.test(\"cooking.valid\")"
   ]
  },
  {
   "cell_type": "code",
   "execution_count": 56,
   "metadata": {},
   "outputs": [
    {
     "output_type": "execute_result",
     "data": {
      "text/plain": [
       "(3000, 0.6126666666666667, 0.2649560328672337)"
      ]
     },
     "metadata": {},
     "execution_count": 56
    }
   ],
   "source": [
    "model = fasttext.train_supervised(input=\"cooking.train\", lr=0.5, epoch=25, wordNgrams=2, bucket=200000, dim=50, loss='ova')\n",
    "model.test(\"cooking.valid\")"
   ]
  },
  {
   "cell_type": "code",
   "execution_count": 60,
   "metadata": {},
   "outputs": [
    {
     "output_type": "execute_result",
     "data": {
      "text/plain": [
       "(3000, 0.606, 0.262072942194032)"
      ]
     },
     "metadata": {},
     "execution_count": 60
    }
   ],
   "source": [
    "model = fasttext.train_supervised(input=\"cooking.train\", lr=0.3, epoch=25, wordNgrams=2, bucket=200000, dim=50, loss='ova')\n",
    "model.test(\"cooking.valid\")"
   ]
  },
  {
   "cell_type": "code",
   "execution_count": 1,
   "metadata": {},
   "outputs": [],
   "source": [
    "def print_results(N, p, r):\n",
    "    print(\"N\\t\" + str(N))\n",
    "    print(\"P@{}\\t{:.3f}\".format(1, p))\n",
    "    print(\"R@{}\\t{:.3f}\".format(1, r))"
   ]
  },
  {
   "cell_type": "code",
   "execution_count": 3,
   "metadata": {},
   "outputs": [
    {
     "output_type": "stream",
     "name": "stdout",
     "text": [
      "N\t3000\nP@1\t0.176\nR@1\t0.076\n"
     ]
    }
   ],
   "source": [
    "print_results(*model.test('cooking.valid'))"
   ]
  },
  {
   "cell_type": "code",
   "execution_count": null,
   "metadata": {},
   "outputs": [],
   "source": []
  }
 ]
}